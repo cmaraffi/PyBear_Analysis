{
 "cells": [
  {
   "cell_type": "code",
   "execution_count": 1,
   "metadata": {},
   "outputs": [],
   "source": [
    "# Pyber Challenge"
   ]
  },
  {
   "cell_type": "code",
   "execution_count": 2,
   "metadata": {},
   "outputs": [],
   "source": [
    "### 4.3 Loading and Reading CSV files"
   ]
  },
  {
   "cell_type": "code",
   "execution_count": 3,
   "metadata": {},
   "outputs": [],
   "source": [
    "# Add Matplotlib inline magic command\n",
    "%matplotlib inline\n",
    "# Dependencies and Setup\n",
    "import matplotlib.pyplot as plt\n",
    "import pandas as pd\n",
    "\n",
    "# File to Load (Remember to change these)\n",
    "city_data_to_load = \"Resources/city_data.csv\"\n",
    "ride_data_to_load = \"Resources/ride_data.csv\"\n",
    "\n",
    "# Read the City and Ride Data\n",
    "city_data_df = pd.read_csv(city_data_to_load)\n",
    "ride_data_df = pd.read_csv(ride_data_to_load)"
   ]
  },
  {
   "cell_type": "code",
   "execution_count": 4,
   "metadata": {},
   "outputs": [],
   "source": [
    "### Merge the DataFrames"
   ]
  },
  {
   "cell_type": "code",
   "execution_count": 86,
   "metadata": {},
   "outputs": [
    {
     "data": {
      "text/html": [
       "<div>\n",
       "<style scoped>\n",
       "    .dataframe tbody tr th:only-of-type {\n",
       "        vertical-align: middle;\n",
       "    }\n",
       "\n",
       "    .dataframe tbody tr th {\n",
       "        vertical-align: top;\n",
       "    }\n",
       "\n",
       "    .dataframe thead th {\n",
       "        text-align: right;\n",
       "    }\n",
       "</style>\n",
       "<table border=\"1\" class=\"dataframe\">\n",
       "  <thead>\n",
       "    <tr style=\"text-align: right;\">\n",
       "      <th></th>\n",
       "      <th>city</th>\n",
       "      <th>date</th>\n",
       "      <th>fare</th>\n",
       "      <th>ride_id</th>\n",
       "      <th>driver_count</th>\n",
       "      <th>type</th>\n",
       "    </tr>\n",
       "  </thead>\n",
       "  <tbody>\n",
       "    <tr>\n",
       "      <th>0</th>\n",
       "      <td>Lake Jonathanshire</td>\n",
       "      <td>1/14/19 10:14</td>\n",
       "      <td>13.83</td>\n",
       "      <td>5.739410e+12</td>\n",
       "      <td>5</td>\n",
       "      <td>Urban</td>\n",
       "    </tr>\n",
       "    <tr>\n",
       "      <th>1</th>\n",
       "      <td>South Michelleport</td>\n",
       "      <td>3/4/19 18:24</td>\n",
       "      <td>30.24</td>\n",
       "      <td>2.343910e+12</td>\n",
       "      <td>72</td>\n",
       "      <td>Urban</td>\n",
       "    </tr>\n",
       "    <tr>\n",
       "      <th>2</th>\n",
       "      <td>Port Samanthamouth</td>\n",
       "      <td>2/24/19 4:29</td>\n",
       "      <td>33.44</td>\n",
       "      <td>2.005070e+12</td>\n",
       "      <td>57</td>\n",
       "      <td>Urban</td>\n",
       "    </tr>\n",
       "    <tr>\n",
       "      <th>3</th>\n",
       "      <td>Rodneyfort</td>\n",
       "      <td>2/10/19 23:22</td>\n",
       "      <td>23.44</td>\n",
       "      <td>5.149250e+12</td>\n",
       "      <td>34</td>\n",
       "      <td>Urban</td>\n",
       "    </tr>\n",
       "    <tr>\n",
       "      <th>4</th>\n",
       "      <td>South Jack</td>\n",
       "      <td>3/6/19 4:28</td>\n",
       "      <td>34.58</td>\n",
       "      <td>3.908450e+12</td>\n",
       "      <td>46</td>\n",
       "      <td>Urban</td>\n",
       "    </tr>\n",
       "  </tbody>\n",
       "</table>\n",
       "</div>"
      ],
      "text/plain": [
       "                 city           date   fare       ride_id  driver_count   type\n",
       "0  Lake Jonathanshire  1/14/19 10:14  13.83  5.739410e+12             5  Urban\n",
       "1  South Michelleport   3/4/19 18:24  30.24  2.343910e+12            72  Urban\n",
       "2  Port Samanthamouth   2/24/19 4:29  33.44  2.005070e+12            57  Urban\n",
       "3          Rodneyfort  2/10/19 23:22  23.44  5.149250e+12            34  Urban\n",
       "4          South Jack    3/6/19 4:28  34.58  3.908450e+12            46  Urban"
      ]
     },
     "execution_count": 86,
     "metadata": {},
     "output_type": "execute_result"
    }
   ],
   "source": [
    "# Combine the data into a single dataset\n",
    "pyber_data_df = pd.merge(ride_data_df, city_data_df, how=\"left\", on=[\"city\", \"city\"])\n",
    "\n",
    "# Display the data table for preview\n",
    "pyber_data_df.head()"
   ]
  },
  {
   "cell_type": "code",
   "execution_count": 87,
   "metadata": {},
   "outputs": [],
   "source": [
    "## Deliverable 1: Get a Summary DataFrame "
   ]
  },
  {
   "cell_type": "code",
   "execution_count": 107,
   "metadata": {},
   "outputs": [
    {
     "data": {
      "text/plain": [
       "type\n",
       "Urban    1625\n",
       "Name: ride_id, dtype: int64"
      ]
     },
     "execution_count": 107,
     "metadata": {},
     "output_type": "execute_result"
    }
   ],
   "source": [
    "#  1. Get the total rides for each city type\n",
    "pyber_data_df[\"type\"].unique()\n",
    "\n",
    "urban_cities_df = pyber_data_df[pyber_data_df[\"type\"] == \"Urban\"]\n",
    "rural_cities_df = pyber_data_df[pyber_data_df[\"type\"] == \"Rural\"]\n",
    "suburban_cities_df = pyber_data_df[pyber_data_df[\"type\"] == \"Suburban\"]\n",
    "\n",
    "urban_ride_count = urban_cities_df.groupby([\"city\"]).count()[\"ride_id\"]\n",
    "rural_ride_count = rural_cities_df.groupby([\"city\"]).count()[\"ride_id\"]\n",
    "suburban_ride_count = suburban_cities_df.groupby([\"city\"]).count()[\"ride_id\"]\n",
    "\n",
    "urban_ride_count.head()"
   ]
  },
  {
   "cell_type": "code",
   "execution_count": 90,
   "metadata": {},
   "outputs": [
    {
     "data": {
      "text/plain": [
       "city\n",
       "Amandaburgh         216\n",
       "Barajasview         572\n",
       "Carriemouth        1404\n",
       "Christopherfurt    1107\n",
       "Deanville           931\n",
       "Name: driver_count, dtype: int64"
      ]
     },
     "execution_count": 90,
     "metadata": {},
     "output_type": "execute_result"
    }
   ],
   "source": [
    "# 2. Get the total drivers for each city type\n",
    "\n",
    "urban_driver_total = urban_cities_df.groupby([\"city\"]).sum()[\"driver_count\"]\n",
    "suburban_driver_total = suburban_cities_df.groupby([\"city\"]).sum()[\"driver_count\"]\n",
    "rural_driver_total = rural_cities_df.groupby([\"city\"]).sum()[\"driver_count\"]\n",
    "\n",
    "urban_driver_total.head()"
   ]
  },
  {
   "cell_type": "code",
   "execution_count": 91,
   "metadata": {},
   "outputs": [
    {
     "data": {
      "text/plain": [
       "city\n",
       "Bradshawfurt      400.64\n",
       "Garzaport          72.37\n",
       "Harringtonfort    200.82\n",
       "Jessicaport       216.08\n",
       "Lake Jamie        206.15\n",
       "Name: fare, dtype: float64"
      ]
     },
     "execution_count": 91,
     "metadata": {},
     "output_type": "execute_result"
    }
   ],
   "source": [
    "#  3. Get the total amount of fares for each city type\n",
    "\n",
    "urban_driver_total_fare = urban_cities_df.groupby([\"city\"]).sum()[\"fare\"]\n",
    "suburban_driver_total_fare = suburban_cities_df.groupby([\"city\"]).sum()[\"fare\"]\n",
    "rural_driver_total_fare = rural_cities_df.groupby([\"city\"]).sum()[\"fare\"]\n",
    "\n",
    "rural_driver_total_fare.head()"
   ]
  },
  {
   "cell_type": "code",
   "execution_count": 92,
   "metadata": {},
   "outputs": [],
   "source": [
    "#  4. Get the average fare per ride for each city type. \n",
    "urban_ride_total = urban_cities_df.groupby([\"city\"]).sum()[\"ride_id\"]\n",
    "rural_ride_total = rural_cities_df.groupby([\"city\"]).sum()[\"ride_id\"]\n",
    "suburban_ride_total = suburban_cities_df.groupby([\"city\"]).sum()[\"ride_id\"]\n",
    "\n",
    "urban_ride_total_fare = urban_cities_df.groupby([\"city\"]).sum()[\"fare\"]\n",
    "rural_ride_total_fare = rural_cities_df.groupby([\"city\"]).sum()[\"fare\"]\n",
    "suburban_ride_total_fare = suburban_cities_df.groupby([\"city\"]).sum()[\"fare\"]"
   ]
  },
  {
   "cell_type": "code",
   "execution_count": 93,
   "metadata": {},
   "outputs": [
    {
     "data": {
      "text/plain": [
       "city\n",
       "Barronchester         1.224736e+11\n",
       "Bethanyland           1.772827e+11\n",
       "Brandonfort           1.532151e+11\n",
       "Colemanland           1.668811e+11\n",
       "Davidfurt             1.429888e+11\n",
       "East Aaronbury        2.463061e+11\n",
       "East Danielview       1.218425e+11\n",
       "East Kentstad         1.503089e+11\n",
       "East Marymouth        1.929637e+11\n",
       "Grayville             2.039124e+11\n",
       "Josephside            1.363276e+11\n",
       "Lake Ann              1.324103e+11\n",
       "Lake Omar             1.967122e+11\n",
       "Lake Robertside       1.605124e+11\n",
       "Lake Scott            1.664717e+11\n",
       "Lewishaven            2.126167e+11\n",
       "Lewisland             1.744813e+11\n",
       "Mezachester           1.986347e+11\n",
       "Myersshire            1.245302e+11\n",
       "New Olivia            1.504507e+11\n",
       "New Raymond           1.850947e+11\n",
       "New Shannonberg       1.792720e+11\n",
       "Nicolechester         1.324782e+11\n",
       "North Jeffrey         1.963464e+11\n",
       "North Richardhaven    1.444763e+11\n",
       "North Timothy         1.425357e+11\n",
       "Port Shane            1.366181e+11\n",
       "Rodriguezview         1.266177e+11\n",
       "Sotoville             1.809786e+11\n",
       "South Brenda          1.310959e+11\n",
       "South Teresa          1.768873e+11\n",
       "Veronicaberg          1.560931e+11\n",
       "Victoriaport          1.754995e+11\n",
       "West Hannah           1.560574e+11\n",
       "West Kimmouth         1.662318e+11\n",
       "Williamsonville       1.593710e+11\n",
       "dtype: float64"
      ]
     },
     "execution_count": 93,
     "metadata": {},
     "output_type": "execute_result"
    }
   ],
   "source": [
    "urban_avg_ride_fare = urban_ride_total / urban_ride_total_fare\n",
    "suburban_avg_ride_fare = suburban_ride_total / suburban_ride_total_fare\n",
    "rural_avg_ride_fare = rural_ride_total / rural_ride_total_fare\n",
    "\n",
    "suburban_avg_ride_fare"
   ]
  },
  {
   "cell_type": "code",
   "execution_count": 94,
   "metadata": {},
   "outputs": [
    {
     "data": {
      "text/plain": [
       "city\n",
       "Amandaburgh            0.486980\n",
       "Barajasview            1.026359\n",
       "Carriemouth            1.836518\n",
       "Christopherfurt        1.673343\n",
       "Deanville              1.896092\n",
       "                         ...   \n",
       "West Patrickchester    0.885485\n",
       "West Robert            1.552309\n",
       "West Samuelburgh       3.353608\n",
       "Williamsstad           2.421787\n",
       "Williamsview           1.729388\n",
       "Length: 66, dtype: float64"
      ]
     },
     "execution_count": 94,
     "metadata": {},
     "output_type": "execute_result"
    }
   ],
   "source": [
    "# 5. Get the average fare per driver for each city type. \n",
    "urban_avg_driver_fare = urban_driver_total / urban_driver_total_fare\n",
    "suburban_avg_driver_fare = suburban_driver_total / suburban_driver_total_fare\n",
    "rural_avg_driver_fare = rural_driver_total / rural_driver_total_fare\n",
    "\n",
    "urban_avg_driver_fare"
   ]
  },
  {
   "cell_type": "code",
   "execution_count": 126,
   "metadata": {},
   "outputs": [],
   "source": [
    "#list the columns\n",
    "cols = combined_cities_df.columns.tolist()\n",
    "\n"
   ]
  },
  {
   "cell_type": "code",
   "execution_count": 132,
   "metadata": {},
   "outputs": [
    {
     "data": {
      "text/plain": [
       "type\n",
       "Rural        125\n",
       "Suburban     625\n",
       "Urban       1625\n",
       "Name: ride_id, dtype: int64"
      ]
     },
     "execution_count": 132,
     "metadata": {},
     "output_type": "execute_result"
    }
   ],
   "source": [
    "# Get the sum of the rides for each city type.\n",
    "sum_rides_by_type = pyber_data_df.groupby([\"type\"]).count()[\"ride_id\"]\n",
    "sum_rides_by_type"
   ]
  },
  {
   "cell_type": "code",
   "execution_count": 221,
   "metadata": {},
   "outputs": [
    {
     "data": {
      "text/plain": [
       "array([ 125,  625, 1625])"
      ]
     },
     "execution_count": 221,
     "metadata": {},
     "output_type": "execute_result"
    }
   ],
   "source": [
    "#get the number of total drivers by type\n",
    "sum_drivers_by_type = pyber_data_df.groupby([\"type\"]).count()[\"driver_count\"].unique()\n",
    "sum_drivers_by_type"
   ]
  },
  {
   "cell_type": "code",
   "execution_count": 215,
   "metadata": {},
   "outputs": [
    {
     "data": {
      "text/plain": [
       "type\n",
       "Rural        4327.93\n",
       "Suburban    19356.33\n",
       "Urban       39854.38\n",
       "Name: fare, dtype: float64"
      ]
     },
     "execution_count": 215,
     "metadata": {},
     "output_type": "execute_result"
    }
   ],
   "source": [
    "#get the number of total fares by type\n",
    "sum_fares_by_type = pyber_data_df.groupby([\"type\"])[\"fare\"].sum()\n",
    "sum_fares_by_type"
   ]
  },
  {
   "cell_type": "code",
   "execution_count": 216,
   "metadata": {},
   "outputs": [
    {
     "data": {
      "text/plain": [
       "type\n",
       "Rural       8.059460\n",
       "Suburban    2.258615\n",
       "Urban       0.668675\n",
       "dtype: float64"
      ]
     },
     "execution_count": 216,
     "metadata": {},
     "output_type": "execute_result"
    }
   ],
   "source": [
    "#get the average fares per ride and fares per driver.\n",
    "average_ride_fare = sum_fares_by_type / sum_rides_by_type\n",
    "average_driver_fare = sum_fares_by_type / sum_drivers_by_type\n",
    "average_driver_fare"
   ]
  },
  {
   "cell_type": "code",
   "execution_count": 203,
   "metadata": {},
   "outputs": [
    {
     "data": {
      "text/html": [
       "<div>\n",
       "<style scoped>\n",
       "    .dataframe tbody tr th:only-of-type {\n",
       "        vertical-align: middle;\n",
       "    }\n",
       "\n",
       "    .dataframe tbody tr th {\n",
       "        vertical-align: top;\n",
       "    }\n",
       "\n",
       "    .dataframe thead th {\n",
       "        text-align: right;\n",
       "    }\n",
       "</style>\n",
       "<table border=\"1\" class=\"dataframe\">\n",
       "  <thead>\n",
       "    <tr style=\"text-align: right;\">\n",
       "      <th></th>\n",
       "      <th>Total Rides</th>\n",
       "      <th>Total Drivers</th>\n",
       "      <th>Total Fares</th>\n",
       "      <th>Average Fare per Ride</th>\n",
       "      <th>Average Fare per Driver</th>\n",
       "    </tr>\n",
       "    <tr>\n",
       "      <th>type</th>\n",
       "      <th></th>\n",
       "      <th></th>\n",
       "      <th></th>\n",
       "      <th></th>\n",
       "      <th></th>\n",
       "    </tr>\n",
       "  </thead>\n",
       "  <tbody>\n",
       "    <tr>\n",
       "      <th>Rural</th>\n",
       "      <td>125</td>\n",
       "      <td>125</td>\n",
       "      <td>4327.93</td>\n",
       "      <td>34.623440</td>\n",
       "      <td>34.623440</td>\n",
       "    </tr>\n",
       "    <tr>\n",
       "      <th>Suburban</th>\n",
       "      <td>625</td>\n",
       "      <td>625</td>\n",
       "      <td>19356.33</td>\n",
       "      <td>30.970128</td>\n",
       "      <td>30.970128</td>\n",
       "    </tr>\n",
       "    <tr>\n",
       "      <th>Urban</th>\n",
       "      <td>1625</td>\n",
       "      <td>1625</td>\n",
       "      <td>39854.38</td>\n",
       "      <td>24.525772</td>\n",
       "      <td>24.525772</td>\n",
       "    </tr>\n",
       "  </tbody>\n",
       "</table>\n",
       "</div>"
      ],
      "text/plain": [
       "          Total Rides  Total Drivers  Total Fares  Average Fare per Ride  \\\n",
       "type                                                                       \n",
       "Rural             125            125      4327.93              34.623440   \n",
       "Suburban          625            625     19356.33              30.970128   \n",
       "Urban            1625           1625     39854.38              24.525772   \n",
       "\n",
       "          Average Fare per Driver  \n",
       "type                               \n",
       "Rural                   34.623440  \n",
       "Suburban                30.970128  \n",
       "Urban                   24.525772  "
      ]
     },
     "execution_count": 203,
     "metadata": {},
     "output_type": "execute_result"
    }
   ],
   "source": [
    "#  6. Create a PyBer summary DataFrame. \n",
    "\n",
    "pyber_summary_df = pd.DataFrame({\n",
    "        \"Total Rides\": sum_rides_by_type,\n",
    "        \"Total Drivers\": sum_drivers_by_type,\n",
    "        \"Total Fares\": sum_fares_by_type,\n",
    "        \"Average Fare per Ride\": average_ride_fare,\n",
    "        \"Average Fare per Driver\": average_driver_fare})\n",
    "       \n",
    "pyber_summary_df.head()"
   ]
  },
  {
   "cell_type": "code",
   "execution_count": null,
   "metadata": {},
   "outputs": [],
   "source": []
  },
  {
   "cell_type": "code",
   "execution_count": 124,
   "metadata": {},
   "outputs": [],
   "source": [
    "#  7. Cleaning up the DataFrame. Delete the index name\n",
    "pyber_summary_df.index.name = None"
   ]
  },
  {
   "cell_type": "code",
   "execution_count": null,
   "metadata": {},
   "outputs": [],
   "source": []
  },
  {
   "cell_type": "code",
   "execution_count": 14,
   "metadata": {},
   "outputs": [],
   "source": [
    "#  8. Format the columns."
   ]
  },
  {
   "cell_type": "code",
   "execution_count": null,
   "metadata": {},
   "outputs": [],
   "source": []
  },
  {
   "cell_type": "code",
   "execution_count": null,
   "metadata": {},
   "outputs": [],
   "source": []
  },
  {
   "cell_type": "code",
   "execution_count": null,
   "metadata": {},
   "outputs": [],
   "source": []
  },
  {
   "cell_type": "code",
   "execution_count": null,
   "metadata": {},
   "outputs": [],
   "source": []
  }
 ],
 "metadata": {
  "kernelspec": {
   "display_name": "PythonData",
   "language": "python",
   "name": "pythondata"
  },
  "language_info": {
   "codemirror_mode": {
    "name": "ipython",
    "version": 3
   },
   "file_extension": ".py",
   "mimetype": "text/x-python",
   "name": "python",
   "nbconvert_exporter": "python",
   "pygments_lexer": "ipython3",
   "version": "3.8.3"
  }
 },
 "nbformat": 4,
 "nbformat_minor": 4
}
